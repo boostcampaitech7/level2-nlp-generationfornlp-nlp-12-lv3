{
 "cells": [
  {
   "cell_type": "code",
   "execution_count": 1,
   "metadata": {},
   "outputs": [
    {
     "name": "stdout",
     "output_type": "stream",
     "text": [
      "                          id  final_prediction\n",
      "0       generation-for-nlp-0                 1\n",
      "1       generation-for-nlp-1                 1\n",
      "2      generation-for-nlp-10                 3\n",
      "3     generation-for-nlp-100                 4\n",
      "4    generation-for-nlp-1002                 2\n",
      "..                       ...               ...\n",
      "864    generation-for-nlp-98                 4\n",
      "865   generation-for-nlp-980                 1\n",
      "866    generation-for-nlp-99                 5\n",
      "867   generation-for-nlp-990                 3\n",
      "868   generation-for-nlp-997                 4\n",
      "\n",
      "[869 rows x 2 columns]\n"
     ]
    },
    {
     "name": "stderr",
     "output_type": "stream",
     "text": [
      "/tmp/ipykernel_298837/3074489639.py:20: DeprecationWarning: DataFrameGroupBy.apply operated on the grouping columns. This behavior is deprecated, and in a future version of pandas the grouping columns will be excluded from the operation. Either pass `include_groups=False` to exclude the groupings or explicitly select the grouping columns after groupby to silence this warning.\n",
      "  final_predictions = df.groupby('id').apply(lambda x: hard_voting(x.iloc[:, 1:].values.flatten()))\n"
     ]
    }
   ],
   "source": [
    "import pandas as pd\n",
    "from collections import Counter\n",
    "\n",
    "# 5개의 CSV 파일 읽기\n",
    "file_names = ['../../data/outputs/output_1.csv', \n",
    "              '../../data/outputs/output_2.csv', \n",
    "              '../../data/outputs/output_3.csv', \n",
    "              '../../data/outputs/output_4.csv']\n",
    "dfs = [pd.read_csv(file) for file in file_names]\n",
    "\n",
    "# 모든 데이터프레임을 id를 기준으로 병합\n",
    "df = pd.concat(dfs)\n",
    "\n",
    "# 각 id별로 예측 결과를 hard voting하기 위한 함수 정의\n",
    "def hard_voting(predictions):\n",
    "    counter = Counter(predictions)\n",
    "    return counter.most_common(1)[0][0]\n",
    "\n",
    "# 각 id에 대해 hard voting 수행\n",
    "final_predictions = df.groupby('id').apply(lambda x: hard_voting(x.iloc[:, 1:].values.flatten()))\n",
    "\n",
    "# 결과 데이터프레임 생성\n",
    "final_df = final_predictions.reset_index()\n",
    "final_df.columns = ['id', 'final_prediction']\n",
    "\n",
    "# 결과 출력 및 저장\n",
    "print(final_df)\n",
    "final_df.to_csv('hard_voting_results.csv', index=False)\n",
    "\n"
   ]
  }
 ],
 "metadata": {
  "kernelspec": {
   "display_name": "base",
   "language": "python",
   "name": "python3"
  },
  "language_info": {
   "codemirror_mode": {
    "name": "ipython",
    "version": 3
   },
   "file_extension": ".py",
   "mimetype": "text/x-python",
   "name": "python",
   "nbconvert_exporter": "python",
   "pygments_lexer": "ipython3",
   "version": "3.10.13"
  }
 },
 "nbformat": 4,
 "nbformat_minor": 2
}
