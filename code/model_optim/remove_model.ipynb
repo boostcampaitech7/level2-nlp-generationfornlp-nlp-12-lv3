{
 "cells": [
  {
   "cell_type": "code",
   "execution_count": null,
   "metadata": {},
   "outputs": [
    {
     "name": "stdout",
     "output_type": "stream",
     "text": [
      "Removed: /data/ephemeral/home/.cache/huggingface/hub/models--HumanF-MarkrAI--Gukbap-Gemma2-9B\n",
      "Removed: /data/ephemeral/home/.cache/huggingface/hub/models--beomi--OPEN-SOLAR-KO-10.7B\n",
      "Removed: /data/ephemeral/home/.cache/huggingface/hub/models--nlpai-lab--KULLM3\n",
      "Removed: /data/ephemeral/home/.cache/huggingface/hub/models--upstage--SOLAR-10.7B-Instruct-v1.0\n"
     ]
    },
    {
     "ename": "",
     "evalue": "",
     "output_type": "error",
     "traceback": [
      "\u001b[1;31m현재 셀 또는 이전 셀에서 코드를 실행하는 동안 Kernel이 충돌했습니다. \n",
      "\u001b[1;31m셀의 코드를 검토하여 가능한 오류 원인을 식별하세요. \n",
      "\u001b[1;31m자세한 내용을 보려면 <a href='https://aka.ms/vscodeJupyterKernelCrash'>여기</a>를 클릭하세요. \n",
      "\u001b[1;31m자세한 내용은 Jupyter <a href='command:jupyter.viewOutput'>로그</a>를 참조하세요."
     ]
    }
   ],
   "source": [
    "import shutil\n",
    "import os\n",
    "\n",
    "# Paths to the directories of the models to be removed\n",
    "models_to_remove = [\n",
    "    '/data/ephemeral/home/.cache/huggingface/hub/models--HumanF-MarkrAI--Gukbap-Gemma2-9B',\n",
    "    '/data/ephemeral/home/.cache/huggingface/hub/models--beomi--OPEN-SOLAR-KO-10.7B',\n",
    "    '/data/ephemeral/home/.cache/huggingface/hub/models--nlpai-lab--KULLM3',\n",
    "    '/data/ephemeral/home/.cache/huggingface/hub/models--upstage--SOLAR-10.7B-Instruct-v1.0'\n",
    "]\n",
    "\n",
    "# Remove the specified directories\n",
    "for model_path in models_to_remove:\n",
    "    if os.path.exists(model_path):\n",
    "        shutil.rmtree(model_path)\n",
    "        print(f'Removed: {model_path}')\n",
    "    else:\n",
    "        print(f'Path does not exist: {model_path}')"
   ]
  }
 ],
 "metadata": {
  "kernelspec": {
   "display_name": "base",
   "language": "python",
   "name": "python3"
  },
  "language_info": {
   "codemirror_mode": {
    "name": "ipython",
    "version": 3
   },
   "file_extension": ".py",
   "mimetype": "text/x-python",
   "name": "python",
   "nbconvert_exporter": "python",
   "pygments_lexer": "ipython3",
   "version": "3.10.13"
  }
 },
 "nbformat": 4,
 "nbformat_minor": 2
}
